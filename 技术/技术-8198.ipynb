{
 "cells": [
  {
   "cell_type": "code",
   "execution_count": 30,
   "id": "e3f2979b",
   "metadata": {},
   "outputs": [],
   "source": [
    "import ast\n",
    "import re\n",
    "import warnings\n",
    "import logging\n",
    "warnings.filterwarnings('ignore')\n",
    "logging.basicConfig(format='%(asctime)s : %(levelname)s : %(message)s', level=logging.INFO)\n",
    "from sklearn.decomposition import PCA\n",
    "import random\n",
    "random_state = 2023\n",
    "random.seed(2023)\n",
    "# 检测异常值\n",
    "from sklearn.ensemble import IsolationForest\n",
    "import os\n",
    "import time\n",
    "\n",
    "import seaborn as sns\n",
    "from scipy import stats \n",
    "import numpy as np\n",
    "import pandas as pd\n",
    "from sklearn.model_selection import StratifiedKFold\n",
    "from sklearn.model_selection import train_test_split\n",
    "from sklearn.utils import shuffle\n",
    "import matplotlib.pyplot as plt\n",
    "\n",
    "\n",
    "from sklearn.metrics import roc_auc_score,f1_score\n",
    "\n",
    "from sklearn.preprocessing import LabelEncoder\n",
    "from tqdm.auto import tqdm\n",
    "import lightgbm as lgb\n",
    "\n",
    "# from hyperopt import fmin, tpe, hp, Trials, space_eval, partial\n",
    "\n",
    "import datetime\n",
    "\n",
    "from sklearn.preprocessing import StandardScaler\n",
    "import time"
   ]
  },
  {
   "cell_type": "code",
   "execution_count": 27,
   "id": "6fdfba08",
   "metadata": {},
   "outputs": [],
   "source": [
    "import lightgbm as lgb\n",
    "from lightgbm import log_evaluation, early_stopping\n",
    "def lgbModel(y, train_scaler_X, test_scaler_X, feature_name, params=None, n_splits = 5, n_jobs=8):\n",
    "    ovr_oof = np.zeros((len(train_scaler_X), ))\n",
    "    ovr_preds = np.zeros((len(test_scaler_X),))\n",
    "    importance = np.zeros((len(feature_name), ))\n",
    "\n",
    "    # 定义 LightGBM 模型参数\n",
    "    if params is None:\n",
    "        params = {\n",
    "            'objective': 'binary',\n",
    "            'metric': 'auc',\n",
    "            'boosting_type': 'gbdt',\n",
    "            'num_leaves': 31,\n",
    "            'max_depth': 5,\n",
    "            'learning_rate': 0.05,\n",
    "            'feature_fraction': 0.8,\n",
    "            'bagging_fraction': 0.8,\n",
    "            'bagging_freq': 5,\n",
    "            'n_jobs': n_jobs,\n",
    "            'random_state': random_state,\n",
    "            'verbose': -1\n",
    "        }\n",
    "\n",
    "\n",
    "    kf = StratifiedKFold(n_splits=n_splits, random_state=random_state, shuffle=True)\n",
    "    callbacks = [log_evaluation(period=1000), early_stopping(stopping_rounds=300)]\n",
    "\n",
    "        # 确定分类特征的列名\n",
    "    cat_features_indices = [col for _, col in enumerate(feature_name) if train_scaler_X[col].nunique() == 2]\n",
    "    if len(train_scaler_X.select_dtypes(include=['object']).columns.to_list())  > 0:\n",
    "        cat_features_indices.append(train_scaler_X.select_dtypes(include=['object']).columns.to_list())\n",
    "    print(\"二分类特征有：\", len(cat_features_indices))\n",
    "\n",
    "    feas = list(feature_name)\n",
    "\n",
    "    #模型训练\n",
    "    for fold_, (train_index, valid_index) in enumerate(kf.split(train_scaler_X, y)):\n",
    "        print(\"--------------------------i {} --- fold n°{}--------------------------\".format(1, fold_ + 1))\n",
    "        X_train, X_valid = train_scaler_X.loc[train_index, feature_name], train_scaler_X.loc[valid_index, feature_name]\n",
    "        y_train, y_valid = y[train_index], y[valid_index]\n",
    "\n",
    "        # 定义数据集\n",
    "        train_set = lgb.Dataset(X_train, y_train, feature_name=feas,\n",
    "                                categorical_feature=cat_features_indices\n",
    "                                )\n",
    "        val_set = lgb.Dataset(X_valid, y_valid, feature_name=feas,\n",
    "                              categorical_feature=cat_features_indices,\n",
    "                              reference=train_set\n",
    "                             )\n",
    "\n",
    "        lgb_model = lgb.train(params,\n",
    "                              train_set,\n",
    "                              valid_sets=[train_set, val_set],\n",
    "                              num_boost_round=10000,\n",
    "                              callbacks=callbacks\n",
    "                              )\n",
    "        ovr_oof[valid_index] = lgb_model.predict(X_valid, num_iteration=lgb_model.best_iteration)\n",
    "\n",
    "        # ovr_preds_list.append(lgb_model.predict(test_scaler_X, num_iteration=lgb_model.best_iteration))\n",
    "        # valid_score.append(roc_auc_score(y[valid_index, num_classes[i]], ovr_oof[valid_index, i]))\n",
    "        ovr_preds += lgb_model.predict(test_scaler_X[feature_name], num_iteration=lgb_model.best_iteration) / n_splits\n",
    "\n",
    "        importance += lgb_model.feature_importance(importance_type='gain')\n",
    "        \n",
    "\n",
    "    y_true = y\n",
    "    y_pred = ovr_oof\n",
    "\n",
    "    auc = roc_auc_score(y_true, y_pred)\n",
    "\n",
    "\n",
    "    # 打印结果\n",
    "\n",
    "    print(\"AUC：\", auc)\n",
    "\n",
    "    return ovr_oof, ovr_preds, importance"
   ]
  },
  {
   "cell_type": "code",
   "execution_count": 20,
   "id": "73ef54ed",
   "metadata": {},
   "outputs": [],
   "source": [
    "test_data = pd.read_csv('../data/A榜_20230720/testa.csv')\n",
    "# test_data.head()"
   ]
  },
  {
   "cell_type": "code",
   "execution_count": 21,
   "id": "73273516",
   "metadata": {},
   "outputs": [],
   "source": [
    "train_data = pd.read_csv('../data/A榜_20230720/train_20230720.csv')\n",
    "\n",
    "# train_data.head()"
   ]
  },
  {
   "cell_type": "code",
   "execution_count": 22,
   "id": "ec3c204f",
   "metadata": {},
   "outputs": [],
   "source": [
    "fillna = 0.001\n",
    "\n",
    "# arpu 单月收入\n",
    "# avg_3mon_dou 三月均流量\n",
    "train_data['arpu'] = train_data['arpu'].apply(lambda x : float(x) if x not in ['\\\\N'] else fillna)\n",
    "test_data['arpu'] = test_data['arpu'].apply(lambda x : float(x) if x not in ['\\\\N'] else fillna)\n",
    "test_data['avg_3mon_dou'] = test_data['avg_3mon_dou'].apply(lambda x : float(x) if x not in ['\\\\N'] else fillna)\n",
    "train_data['avg_3mon_dou'] = train_data['avg_3mon_dou'].apply(lambda x : float(x) if x not in ['\\\\N'] else fillna)"
   ]
  },
  {
   "cell_type": "code",
   "execution_count": 23,
   "id": "2614fa77",
   "metadata": {},
   "outputs": [],
   "source": [
    "del_fea = [\n",
    "    'unlimit_flag', 'newuser_flag', \n",
    "]\n",
    "train_data.drop(del_fea, axis=1, inplace=True)\n",
    "test_data.drop(del_fea, axis=1, inplace=True)"
   ]
  },
  {
   "cell_type": "code",
   "execution_count": 24,
   "id": "673e1d9b",
   "metadata": {},
   "outputs": [],
   "source": [
    "test_id = test_data['id_no']\n",
    "label = train_data['flag']\n",
    "\n",
    "for fea in ['id_no', 'flag', 'is_test']:\n",
    "    if fea in train_data.columns:\n",
    "        train_data.drop(fea, axis=1, inplace=True)\n",
    "    if fea in test_data.columns:\n",
    "        test_data.drop(fea, axis=1, inplace=True)"
   ]
  },
  {
   "cell_type": "code",
   "execution_count": 25,
   "id": "9c5026ea",
   "metadata": {},
   "outputs": [
    {
     "name": "stdout",
     "output_type": "stream",
     "text": [
      "58\n"
     ]
    }
   ],
   "source": [
    "feature_name = [fea for fea in train_data.columns if fea not in ['id_no', 'label']]\n",
    "print(len(feature_name))"
   ]
  },
  {
   "cell_type": "code",
   "execution_count": 28,
   "id": "41eed006",
   "metadata": {},
   "outputs": [
    {
     "name": "stdout",
     "output_type": "stream",
     "text": [
      "二分类特征有： 7\n",
      "--------------------------i 1 --- fold n°1--------------------------\n",
      "Training until validation scores don't improve for 300 rounds\n",
      "[1000]\ttraining's auc: 0.965515\tvalid_1's auc: 0.911694\n",
      "Early stopping, best iteration is:\n",
      "[827]\ttraining's auc: 0.959367\tvalid_1's auc: 0.911829\n",
      "--------------------------i 1 --- fold n°2--------------------------\n",
      "Training until validation scores don't improve for 300 rounds\n",
      "[1000]\ttraining's auc: 0.965868\tvalid_1's auc: 0.91141\n",
      "Early stopping, best iteration is:\n",
      "[986]\ttraining's auc: 0.965378\tvalid_1's auc: 0.911457\n",
      "--------------------------i 1 --- fold n°3--------------------------\n",
      "Training until validation scores don't improve for 300 rounds\n",
      "[1000]\ttraining's auc: 0.966004\tvalid_1's auc: 0.909759\n",
      "Early stopping, best iteration is:\n",
      "[1111]\ttraining's auc: 0.969421\tvalid_1's auc: 0.909943\n",
      "--------------------------i 1 --- fold n°4--------------------------\n",
      "Training until validation scores don't improve for 300 rounds\n",
      "[1000]\ttraining's auc: 0.965835\tvalid_1's auc: 0.916516\n",
      "Early stopping, best iteration is:\n",
      "[1090]\ttraining's auc: 0.968758\tvalid_1's auc: 0.916742\n",
      "--------------------------i 1 --- fold n°5--------------------------\n",
      "Training until validation scores don't improve for 300 rounds\n",
      "[1000]\ttraining's auc: 0.965416\tvalid_1's auc: 0.909122\n",
      "Early stopping, best iteration is:\n",
      "[1170]\ttraining's auc: 0.971151\tvalid_1's auc: 0.909216\n",
      "--------------------------i 1 --- fold n°6--------------------------\n",
      "Training until validation scores don't improve for 300 rounds\n",
      "[1000]\ttraining's auc: 0.965562\tvalid_1's auc: 0.910157\n",
      "Early stopping, best iteration is:\n",
      "[1618]\ttraining's auc: 0.982199\tvalid_1's auc: 0.911037\n",
      "--------------------------i 1 --- fold n°7--------------------------\n",
      "Training until validation scores don't improve for 300 rounds\n",
      "[1000]\ttraining's auc: 0.965475\tvalid_1's auc: 0.911718\n",
      "Early stopping, best iteration is:\n",
      "[1442]\ttraining's auc: 0.977874\tvalid_1's auc: 0.912306\n",
      "--------------------------i 1 --- fold n°8--------------------------\n",
      "Training until validation scores don't improve for 300 rounds\n",
      "[1000]\ttraining's auc: 0.966147\tvalid_1's auc: 0.910541\n",
      "[2000]\ttraining's auc: 0.988591\tvalid_1's auc: 0.910809\n",
      "Early stopping, best iteration is:\n",
      "[1723]\ttraining's auc: 0.984369\tvalid_1's auc: 0.911247\n",
      "AUC： 0.9115963375738335\n",
      "运行时间：1.5300453106562297分\n"
     ]
    }
   ],
   "source": [
    "start_time = time.time()\n",
    "\n",
    "n_splits = 8\n",
    "\n",
    "\n",
    "ovr_oof, ovr_preds, importance = lgbModel(\n",
    "    label, \n",
    "    train_data, \n",
    "    test_data, \n",
    "    feature_name,\n",
    "    n_splits = n_splits,\n",
    ")\n",
    "end_time = time.time()\n",
    "print(f\"运行时间：{(end_time - start_time)/60}分\")"
   ]
  },
  {
   "cell_type": "code",
   "execution_count": 31,
   "id": "a402417e",
   "metadata": {},
   "outputs": [
    {
     "name": "stdout",
     "output_type": "stream",
     "text": [
      "AUC: 0.9115963375738335, f1: 0.697084318360914\n",
      "0.5*auc + 0.5*f1 确定阈值: 0.34000, score: 0.80434\n",
      "\n"
     ]
    }
   ],
   "source": [
    "auc = roc_auc_score(label, ovr_oof)\n",
    "scc = -np.inf\n",
    "for threshold in np.arange(0, 1.01, 0.01):\n",
    "    yhat = (ovr_oof > threshold).astype(int)\n",
    "    f1 = f1_score(label, yhat)\n",
    "    sc = 0.5*auc + 0.5*f1\n",
    "    if scc < sc:\n",
    "        scc = sc\n",
    "        best_threshold = threshold\n",
    "\n",
    "yhat = (ovr_oof > best_threshold).astype(int)\n",
    "f1 = f1_score(label, yhat)\n",
    "print(f\"AUC: {auc}, f1: {f1}\")\n",
    "print(\"0.5*auc + 0.5*f1 确定阈值: {:.5f}, score: {:.5f}\\n\".format(best_threshold, scc))"
   ]
  },
  {
   "cell_type": "code",
   "execution_count": 32,
   "id": "8bcfe3fd",
   "metadata": {},
   "outputs": [
    {
     "data": {
      "text/plain": [
       "0    10795\n",
       "1     3184\n",
       "Name: predtype, dtype: int64"
      ]
     },
     "execution_count": 32,
     "metadata": {},
     "output_type": "execute_result"
    }
   ],
   "source": [
    "threshold = 0.34000  #目标评价指标 确定阈值\n",
    "subimt = pd.DataFrame()\n",
    "subimt['id_no'] = test_id\n",
    "subimt['predprob'] = ovr_preds\n",
    "subimt['predtype'] = (ovr_preds > threshold).astype(int)\n",
    "subimt['predtype'].value_counts()"
   ]
  },
  {
   "cell_type": "code",
   "execution_count": null,
   "id": "7a2b60ec",
   "metadata": {},
   "outputs": [],
   "source": [
    "subimt.to_csv('../data/A榜_20230720/subimt.csv', index=False)"
   ]
  }
 ],
 "metadata": {
  "kernelspec": {
   "display_name": "Python 3 (ipykernel)",
   "language": "python",
   "name": "python3"
  },
  "language_info": {
   "codemirror_mode": {
    "name": "ipython",
    "version": 3
   },
   "file_extension": ".py",
   "mimetype": "text/x-python",
   "name": "python",
   "nbconvert_exporter": "python",
   "pygments_lexer": "ipython3",
   "version": "3.11.3"
  }
 },
 "nbformat": 4,
 "nbformat_minor": 5
}
